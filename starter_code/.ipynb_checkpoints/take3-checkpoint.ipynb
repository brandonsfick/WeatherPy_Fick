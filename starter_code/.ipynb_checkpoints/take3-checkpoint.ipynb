{
 "cells": [
  {
   "cell_type": "markdown",
   "metadata": {},
   "source": [
    "# WeatherPy\n",
    "----\n",
    "\n",
    "### Analysis\n",
    "* As expected, the weather becomes significantly warmer as one approaches the equator (0 Deg. Latitude). More interestingly, however, is the fact that the southern hemisphere tends to be warmer this time of year than the northern hemisphere. This may be due to the tilt of the earth.\n",
    "* There is no strong relationship between latitude and cloudiness. However, it is interesting to see that a strong band of cities sits at 0, 80, and 100% cloudiness.\n",
    "* There is no strong relationship between latitude and wind speed. However, in northern hemispheres there is a flurry of cities with over 20 mph of wind.\n",
    "\n",
    "---\n",
    "\n",
    "#### Note\n",
    "* Instructions have been included for each segment. You do not have to follow them exactly, but they are included to help you think through the steps."
   ]
  },
  {
   "cell_type": "code",
   "execution_count": 22,
   "metadata": {
    "scrolled": true
   },
   "outputs": [],
   "source": [
    "# Dependencies and Setup\n",
    "import matplotlib.pyplot as plt\n",
    "import pandas as pd\n",
    "import numpy as np\n",
    "import requests\n",
    "import time\n",
    "import openweathermapy.core as owm\n",
    "from pprint import pprint\n",
    "import json\n",
    "\n",
    "# Import API key\n",
    "from api_keys import api_key\n",
    "\n",
    "# Incorporated citipy to determine city based on latitude and longitude\n",
    "from citipy import citipy\n",
    "\n",
    "# Output File (CSV)\n",
    "output_data_file = \"output_data/cities.csv\"\n",
    "\n",
    "# Range of latitudes and longitudes\n",
    "lat_range = (-90, 90)\n",
    "lng_range = (-180, 180)\n"
   ]
  },
  {
   "cell_type": "markdown",
   "metadata": {},
   "source": [
    "## Generate Cities List"
   ]
  },
  {
   "cell_type": "code",
   "execution_count": 2,
   "metadata": {},
   "outputs": [
    {
     "data": {
      "text/plain": [
       "50"
      ]
     },
     "execution_count": 2,
     "metadata": {},
     "output_type": "execute_result"
    }
   ],
   "source": [
    "# List for holding lat_lngs and cities\n",
    "lat_lngs = []\n",
    "cities = []\n",
    "\n",
    "# Create a set of random lat and lng combinations\n",
    "lats = np.random.uniform(low=-90.000, high=90.000, size=2500)\n",
    "lngs = np.random.uniform(low=-180.000, high=180.000, size=2500)\n",
    "lat_lngs = zip(lats, lngs)\n",
    "\n",
    "# Identify nearest city for each lat, lng combination\n",
    "for lat_lng in lat_lngs:\n",
    "    city = citipy.nearest_city(lat_lng[0], lat_lng[1]).city_name\n",
    "    \n",
    "    # If the city is unique, then add it to a our cities list\n",
    "    if city not in cities:\n",
    "        cities.append(city)\n",
    "\n",
    "del cities[50:]\n",
    "# # Print the city count to confirm sufficient count\n",
    "len(cities)\n",
    "\n"
   ]
  },
  {
   "cell_type": "markdown",
   "metadata": {},
   "source": [
    "### Perform API Calls\n",
    "* Perform a weather check on each city using a series of successive API calls.\n",
    "* Include a print log of each city as it's being processed (with the city number and city name).\n"
   ]
  },
  {
   "cell_type": "code",
   "execution_count": 20,
   "metadata": {},
   "outputs": [
    {
     "name": "stdout",
     "output_type": "stream",
     "text": [
      "Beginning Data Retrieval \n",
      "-----------------------------\n",
      "Procesing Record 1: port elizabeth\n",
      "Procesing Record 2: sioni\n",
      "Procesing Record 3: jamestown\n",
      "Procesing Record 4: bambanglipuro\n"
     ]
    },
    {
     "ename": "KeyboardInterrupt",
     "evalue": "",
     "output_type": "error",
     "traceback": [
      "\u001b[0;31m---------------------------------------------------------------------------\u001b[0m",
      "\u001b[0;31mKeyboardInterrupt\u001b[0m                         Traceback (most recent call last)",
      "\u001b[0;32m<ipython-input-20-d7df31da2670>\u001b[0m in \u001b[0;36m<module>\u001b[0;34m()\u001b[0m\n\u001b[1;32m     18\u001b[0m     \u001b[0;32mexcept\u001b[0m\u001b[0;34m:\u001b[0m\u001b[0;34m\u001b[0m\u001b[0m\n\u001b[1;32m     19\u001b[0m         \u001b[0mprint\u001b[0m\u001b[0;34m(\u001b[0m\u001b[0;34mf\"Skipping data for {city} it doesn't have any data.\"\u001b[0m\u001b[0;34m)\u001b[0m\u001b[0;34m\u001b[0m\u001b[0m\n\u001b[0;32m---> 20\u001b[0;31m     \u001b[0mtime\u001b[0m\u001b[0;34m.\u001b[0m\u001b[0msleep\u001b[0m\u001b[0;34m(\u001b[0m\u001b[0;36m1.25\u001b[0m\u001b[0;34m)\u001b[0m\u001b[0;34m\u001b[0m\u001b[0m\n\u001b[0m\u001b[1;32m     21\u001b[0m \u001b[0mweather_in_cities\u001b[0m\u001b[0;34m.\u001b[0m\u001b[0mget_dict\u001b[0m\u001b[0;34m(\u001b[0m\u001b[0mviews\u001b[0m\u001b[0;34m[\u001b[0m\u001b[0;34m\"summary\"\u001b[0m\u001b[0;34m]\u001b[0m\u001b[0;34m)\u001b[0m\u001b[0;34m\u001b[0m\u001b[0m\n\u001b[1;32m     22\u001b[0m \u001b[0;31m#     >>> views = {\u001b[0m\u001b[0;34m\u001b[0m\u001b[0;34m\u001b[0m\u001b[0m\n",
      "\u001b[0;31mKeyboardInterrupt\u001b[0m: "
     ]
    }
   ],
   "source": [
    "# Creates a setting dictionary with information we're interested in\n",
    "\n",
    "settings = {\"units\": \"imperial\", \"appid\": api_key}\n",
    "weather_in_cities= []\n",
    "# Get current weather from randomized city list\n",
    "record_numb = 1\n",
    "print(f\"Beginning Data Retrieval \\n\"\n",
    "    \"-----------------------------\")\n",
    "for city in cities:\n",
    "    try:\n",
    "        current_weather_city = owm.find_city(city, **settings)\n",
    "        weather_in_cities.append(current_weather_city)\n",
    "        print(f\"Procesing Record {record_numb}: {city}\")\n",
    "        record_numb = record_numb+1\n",
    "        \n",
    "    except:     \n",
    "        print(f\"Skipping data for {city} it doesn't have any data.\")\n",
    "    time.sleep(1.25)\n"
   ]
  },
  {
   "cell_type": "code",
   "execution_count": 23,
   "metadata": {},
   "outputs": [
    {
     "name": "stdout",
     "output_type": "stream",
     "text": [
      "[[{'clouds': {'all': 1},\n",
      "   'coord': {'lat': 39.3134, 'lon': -74.9811},\n",
      "   'dt': 1540871640,\n",
      "   'id': 4501427,\n",
      "   'main': {'humidity': 76,\n",
      "            'pressure': 1017,\n",
      "            'temp': 45.81,\n",
      "            'temp_max': 46.58,\n",
      "            'temp_min': 44.06},\n",
      "   'name': 'Port Elizabeth',\n",
      "   'rain': None,\n",
      "   'snow': None,\n",
      "   'sys': {'country': 'US'},\n",
      "   'weather': [{'description': 'sky is clear',\n",
      "                'icon': '01n',\n",
      "                'id': 800,\n",
      "                'main': 'Clear'}],\n",
      "   'wind': {'deg': 290, 'speed': 6.93}}],\n",
      " [{'clouds': {'all': 0},\n",
      "   'coord': {'lat': 41.9895, 'lon': 45.0239},\n",
      "   'dt': 1540870200,\n",
      "   'id': 615844,\n",
      "   'main': {'humidity': 86,\n",
      "            'pressure': 1030,\n",
      "            'temp': 41,\n",
      "            'temp_max': 41,\n",
      "            'temp_min': 41},\n",
      "   'name': 'Sioni',\n",
      "   'rain': None,\n",
      "   'snow': None,\n",
      "   'sys': {'country': 'GE'},\n",
      "   'weather': [{'description': 'Sky is Clear',\n",
      "                'icon': '01n',\n",
      "                'id': 800,\n",
      "                'main': 'Clear'}],\n",
      "   'wind': {'deg': 330, 'speed': 6.93}},\n",
      "  {'clouds': {'all': 0},\n",
      "   'coord': {'lat': 42.6069, 'lon': 44.5851},\n",
      "   'dt': 1540872660,\n",
      "   'id': 614087,\n",
      "   'main': {'grnd_level': 776.12,\n",
      "            'humidity': 60,\n",
      "            'pressure': 776.12,\n",
      "            'sea_level': 1042.03,\n",
      "            'temp': 10.89,\n",
      "            'temp_max': 10.89,\n",
      "            'temp_min': 10.89},\n",
      "   'name': 'Sioni',\n",
      "   'rain': None,\n",
      "   'snow': None,\n",
      "   'sys': {'country': 'GE'},\n",
      "   'weather': [{'description': 'Sky is Clear',\n",
      "                'icon': '01d',\n",
      "                'id': 800,\n",
      "                'main': 'Clear'}],\n",
      "   'wind': {'deg': 359, 'speed': 1.05}},\n",
      "  {'clouds': {'all': 0},\n",
      "   'coord': {'lat': 41.2924, 'lon': 44.7161},\n",
      "   'dt': 1540870200,\n",
      "   'id': 612012,\n",
      "   'main': {'humidity': 86,\n",
      "            'pressure': 1030,\n",
      "            'temp': 41,\n",
      "            'temp_max': 41,\n",
      "            'temp_min': 41},\n",
      "   'name': 'Sioni',\n",
      "   'rain': None,\n",
      "   'snow': None,\n",
      "   'sys': {'country': 'GE'},\n",
      "   'weather': [{'description': 'Sky is Clear',\n",
      "                'icon': '01n',\n",
      "                'id': 800,\n",
      "                'main': 'Clear'}],\n",
      "   'wind': {'deg': 330, 'speed': 6.93}}],\n",
      " [{'clouds': {'all': 36},\n",
      "   'coord': {'lat': -33.2075, 'lon': 138.6035},\n",
      "   'dt': 1540872662,\n",
      "   'id': 2069194,\n",
      "   'main': {'grnd_level': 971.15,\n",
      "            'humidity': 40,\n",
      "            'pressure': 971.15,\n",
      "            'sea_level': 1028.81,\n",
      "            'temp': 80.86,\n",
      "            'temp_max': 80.86,\n",
      "            'temp_min': 80.86},\n",
      "   'name': 'Jamestown',\n",
      "   'rain': None,\n",
      "   'snow': None,\n",
      "   'sys': {'country': 'AU'},\n",
      "   'weather': [{'description': 'scattered clouds',\n",
      "                'icon': '03d',\n",
      "                'id': 802,\n",
      "                'main': 'Clouds'}],\n",
      "   'wind': {'deg': 301, 'speed': 6.64}},\n",
      "  {'clouds': {'all': 20},\n",
      "   'coord': {'lat': 42.097, 'lon': -79.2354},\n",
      "   'dt': 1540871760,\n",
      "   'id': 5122534,\n",
      "   'main': {'humidity': 92,\n",
      "            'pressure': 1016,\n",
      "            'temp': 39.15,\n",
      "            'temp_max': 48.02,\n",
      "            'temp_min': 33.98},\n",
      "   'name': 'Jamestown',\n",
      "   'rain': None,\n",
      "   'snow': None,\n",
      "   'sys': {'country': 'US'},\n",
      "   'weather': [{'description': 'few clouds',\n",
      "                'icon': '02n',\n",
      "                'id': 801,\n",
      "                'main': 'Clouds'}],\n",
      "   'wind': {'deg': 230, 'speed': 8.05}},\n",
      "  {'clouds': {'all': 1},\n",
      "   'coord': {'lat': 37.2104, 'lon': -76.7739},\n",
      "   'dt': 1540871940,\n",
      "   'id': 4793846,\n",
      "   'main': {'humidity': 87,\n",
      "            'pressure': 1020,\n",
      "            'temp': 42.67,\n",
      "            'temp_max': 50,\n",
      "            'temp_min': 37.04},\n",
      "   'name': 'Jamestown',\n",
      "   'rain': None,\n",
      "   'snow': None,\n",
      "   'sys': {'country': 'US'},\n",
      "   'weather': [{'description': 'sky is clear',\n",
      "                'icon': '01n',\n",
      "                'id': 800,\n",
      "                'main': 'Clear'}],\n",
      "   'wind': {'deg': 323.5, 'speed': 6.76}},\n",
      "  {'clouds': {'all': 90},\n",
      "   'coord': {'lat': 46.9105, 'lon': -98.7085},\n",
      "   'dt': 1540871700,\n",
      "   'id': 5059836,\n",
      "   'main': {'humidity': 100,\n",
      "            'pressure': 1010,\n",
      "            'temp': 41.97,\n",
      "            'temp_max': 42.8,\n",
      "            'temp_min': 41},\n",
      "   'name': 'Jamestown',\n",
      "   'rain': {'1h': 0.25},\n",
      "   'snow': None,\n",
      "   'sys': {'country': 'US'},\n",
      "   'weather': [{'description': 'light rain',\n",
      "                'icon': '10n',\n",
      "                'id': 500,\n",
      "                'main': 'Rain'},\n",
      "               {'description': 'light intensity drizzle',\n",
      "                'icon': '09n',\n",
      "                'id': 300,\n",
      "                'main': 'Drizzle'}],\n",
      "   'wind': {'deg': 29.5004, 'speed': 3.4}},\n",
      "  {'clouds': {'all': 20},\n",
      "   'coord': {'lat': 41.497, 'lon': -71.3673},\n",
      "   'dt': 1540871760,\n",
      "   'id': 5222866,\n",
      "   'main': {'humidity': 76,\n",
      "            'pressure': 1012,\n",
      "            'temp': 45.91,\n",
      "            'temp_max': 51.98,\n",
      "            'temp_min': 39.02},\n",
      "   'name': 'Jamestown',\n",
      "   'rain': None,\n",
      "   'snow': None,\n",
      "   'sys': {'country': 'US'},\n",
      "   'weather': [{'description': 'few clouds',\n",
      "                'icon': '02n',\n",
      "                'id': 801,\n",
      "                'main': 'Clouds'}],\n",
      "   'wind': {'deg': 300, 'speed': 3.36}}],\n",
      " [{'clouds': {'all': 0},\n",
      "   'coord': {'lat': -7.95, 'lon': 110.2833},\n",
      "   'dt': 1540872664,\n",
      "   'id': 1650434,\n",
      "   'main': {'grnd_level': 994.17,\n",
      "            'humidity': 58,\n",
      "            'pressure': 994.17,\n",
      "            'sea_level': 1024.6,\n",
      "            'temp': 85.86,\n",
      "            'temp_max': 85.86,\n",
      "            'temp_min': 85.86},\n",
      "   'name': 'Bambanglipuro',\n",
      "   'rain': None,\n",
      "   'snow': None,\n",
      "   'sys': {'country': 'ID'},\n",
      "   'weather': [{'description': 'Sky is Clear',\n",
      "                'icon': '01d',\n",
      "                'id': 800,\n",
      "                'main': 'Clear'}],\n",
      "   'wind': {'deg': 176, 'speed': 4.63}}]]\n"
     ]
    }
   ],
   "source": [
    "# print(json.dumps(weather_in_cities, indent=4, sort_keys=True))\n",
    "pprint(weather_in_cities)"
   ]
  },
  {
   "cell_type": "markdown",
   "metadata": {},
   "source": [
    "### Convert Raw Data to DataFrame\n",
    "* Export the city data into a .csv.\n",
    "* Display the DataFrame"
   ]
  },
  {
   "cell_type": "code",
   "execution_count": 10,
   "metadata": {},
   "outputs": [
    {
     "ename": "TypeError",
     "evalue": "Expected list, got DataBlock",
     "output_type": "error",
     "traceback": [
      "\u001b[0;31m---------------------------------------------------------------------------\u001b[0m",
      "\u001b[0;31mTypeError\u001b[0m                                 Traceback (most recent call last)",
      "\u001b[0;32m<ipython-input-10-2892501a2cb1>\u001b[0m in \u001b[0;36m<module>\u001b[0;34m()\u001b[0m\n\u001b[0;32m----> 1\u001b[0;31m \u001b[0mdf_raw_data\u001b[0m\u001b[0;34m=\u001b[0m\u001b[0mpd\u001b[0m\u001b[0;34m.\u001b[0m\u001b[0mDataFrame\u001b[0m\u001b[0;34m.\u001b[0m\u001b[0mfrom_dict\u001b[0m\u001b[0;34m(\u001b[0m\u001b[0mweather_in_cities\u001b[0m\u001b[0;34m)\u001b[0m\u001b[0;34m\u001b[0m\u001b[0m\n\u001b[0m",
      "\u001b[0;32m~/anaconda3/envs/PythonData/lib/python3.6/site-packages/pandas/core/frame.py\u001b[0m in \u001b[0;36mfrom_dict\u001b[0;34m(cls, data, orient, dtype, columns)\u001b[0m\n\u001b[1;32m    983\u001b[0m             \u001b[0;32mraise\u001b[0m \u001b[0mValueError\u001b[0m\u001b[0;34m(\u001b[0m\u001b[0;34m'only recognize index or columns for orient'\u001b[0m\u001b[0;34m)\u001b[0m\u001b[0;34m\u001b[0m\u001b[0m\n\u001b[1;32m    984\u001b[0m \u001b[0;34m\u001b[0m\u001b[0m\n\u001b[0;32m--> 985\u001b[0;31m         \u001b[0;32mreturn\u001b[0m \u001b[0mcls\u001b[0m\u001b[0;34m(\u001b[0m\u001b[0mdata\u001b[0m\u001b[0;34m,\u001b[0m \u001b[0mindex\u001b[0m\u001b[0;34m=\u001b[0m\u001b[0mindex\u001b[0m\u001b[0;34m,\u001b[0m \u001b[0mcolumns\u001b[0m\u001b[0;34m=\u001b[0m\u001b[0mcolumns\u001b[0m\u001b[0;34m,\u001b[0m \u001b[0mdtype\u001b[0m\u001b[0;34m=\u001b[0m\u001b[0mdtype\u001b[0m\u001b[0;34m)\u001b[0m\u001b[0;34m\u001b[0m\u001b[0m\n\u001b[0m\u001b[1;32m    986\u001b[0m \u001b[0;34m\u001b[0m\u001b[0m\n\u001b[1;32m    987\u001b[0m     \u001b[0;32mdef\u001b[0m \u001b[0mto_dict\u001b[0m\u001b[0;34m(\u001b[0m\u001b[0mself\u001b[0m\u001b[0;34m,\u001b[0m \u001b[0morient\u001b[0m\u001b[0;34m=\u001b[0m\u001b[0;34m'dict'\u001b[0m\u001b[0;34m,\u001b[0m \u001b[0minto\u001b[0m\u001b[0;34m=\u001b[0m\u001b[0mdict\u001b[0m\u001b[0;34m)\u001b[0m\u001b[0;34m:\u001b[0m\u001b[0;34m\u001b[0m\u001b[0m\n",
      "\u001b[0;32m~/anaconda3/envs/PythonData/lib/python3.6/site-packages/pandas/core/frame.py\u001b[0m in \u001b[0;36m__init__\u001b[0;34m(self, data, index, columns, dtype, copy)\u001b[0m\n\u001b[1;32m    385\u001b[0m                     \u001b[0;32mif\u001b[0m \u001b[0mis_named_tuple\u001b[0m\u001b[0;34m(\u001b[0m\u001b[0mdata\u001b[0m\u001b[0;34m[\u001b[0m\u001b[0;36m0\u001b[0m\u001b[0;34m]\u001b[0m\u001b[0;34m)\u001b[0m \u001b[0;32mand\u001b[0m \u001b[0mcolumns\u001b[0m \u001b[0;32mis\u001b[0m \u001b[0;32mNone\u001b[0m\u001b[0;34m:\u001b[0m\u001b[0;34m\u001b[0m\u001b[0m\n\u001b[1;32m    386\u001b[0m                         \u001b[0mcolumns\u001b[0m \u001b[0;34m=\u001b[0m \u001b[0mdata\u001b[0m\u001b[0;34m[\u001b[0m\u001b[0;36m0\u001b[0m\u001b[0;34m]\u001b[0m\u001b[0;34m.\u001b[0m\u001b[0m_fields\u001b[0m\u001b[0;34m\u001b[0m\u001b[0m\n\u001b[0;32m--> 387\u001b[0;31m                     \u001b[0marrays\u001b[0m\u001b[0;34m,\u001b[0m \u001b[0mcolumns\u001b[0m \u001b[0;34m=\u001b[0m \u001b[0m_to_arrays\u001b[0m\u001b[0;34m(\u001b[0m\u001b[0mdata\u001b[0m\u001b[0;34m,\u001b[0m \u001b[0mcolumns\u001b[0m\u001b[0;34m,\u001b[0m \u001b[0mdtype\u001b[0m\u001b[0;34m=\u001b[0m\u001b[0mdtype\u001b[0m\u001b[0;34m)\u001b[0m\u001b[0;34m\u001b[0m\u001b[0m\n\u001b[0m\u001b[1;32m    388\u001b[0m                     \u001b[0mcolumns\u001b[0m \u001b[0;34m=\u001b[0m \u001b[0m_ensure_index\u001b[0m\u001b[0;34m(\u001b[0m\u001b[0mcolumns\u001b[0m\u001b[0;34m)\u001b[0m\u001b[0;34m\u001b[0m\u001b[0m\n\u001b[1;32m    389\u001b[0m \u001b[0;34m\u001b[0m\u001b[0m\n",
      "\u001b[0;32m~/anaconda3/envs/PythonData/lib/python3.6/site-packages/pandas/core/frame.py\u001b[0m in \u001b[0;36m_to_arrays\u001b[0;34m(data, columns, coerce_float, dtype)\u001b[0m\n\u001b[1;32m   7473\u001b[0m     \u001b[0;32mif\u001b[0m \u001b[0misinstance\u001b[0m\u001b[0;34m(\u001b[0m\u001b[0mdata\u001b[0m\u001b[0;34m[\u001b[0m\u001b[0;36m0\u001b[0m\u001b[0;34m]\u001b[0m\u001b[0;34m,\u001b[0m \u001b[0;34m(\u001b[0m\u001b[0mlist\u001b[0m\u001b[0;34m,\u001b[0m \u001b[0mtuple\u001b[0m\u001b[0;34m)\u001b[0m\u001b[0;34m)\u001b[0m\u001b[0;34m:\u001b[0m\u001b[0;34m\u001b[0m\u001b[0m\n\u001b[1;32m   7474\u001b[0m         return _list_to_arrays(data, columns, coerce_float=coerce_float,\n\u001b[0;32m-> 7475\u001b[0;31m                                dtype=dtype)\n\u001b[0m\u001b[1;32m   7476\u001b[0m     \u001b[0;32melif\u001b[0m \u001b[0misinstance\u001b[0m\u001b[0;34m(\u001b[0m\u001b[0mdata\u001b[0m\u001b[0;34m[\u001b[0m\u001b[0;36m0\u001b[0m\u001b[0;34m]\u001b[0m\u001b[0;34m,\u001b[0m \u001b[0mcollections\u001b[0m\u001b[0;34m.\u001b[0m\u001b[0mMapping\u001b[0m\u001b[0;34m)\u001b[0m\u001b[0;34m:\u001b[0m\u001b[0;34m\u001b[0m\u001b[0m\n\u001b[1;32m   7477\u001b[0m         return _list_of_dict_to_arrays(data, columns,\n",
      "\u001b[0;32m~/anaconda3/envs/PythonData/lib/python3.6/site-packages/pandas/core/frame.py\u001b[0m in \u001b[0;36m_list_to_arrays\u001b[0;34m(data, columns, coerce_float, dtype)\u001b[0m\n\u001b[1;32m   7550\u001b[0m     \u001b[0;32melse\u001b[0m\u001b[0;34m:\u001b[0m\u001b[0;34m\u001b[0m\u001b[0m\n\u001b[1;32m   7551\u001b[0m         \u001b[0;31m# list of lists\u001b[0m\u001b[0;34m\u001b[0m\u001b[0;34m\u001b[0m\u001b[0m\n\u001b[0;32m-> 7552\u001b[0;31m         \u001b[0mcontent\u001b[0m \u001b[0;34m=\u001b[0m \u001b[0mlist\u001b[0m\u001b[0;34m(\u001b[0m\u001b[0mlib\u001b[0m\u001b[0;34m.\u001b[0m\u001b[0mto_object_array\u001b[0m\u001b[0;34m(\u001b[0m\u001b[0mdata\u001b[0m\u001b[0;34m)\u001b[0m\u001b[0;34m.\u001b[0m\u001b[0mT\u001b[0m\u001b[0;34m)\u001b[0m\u001b[0;34m\u001b[0m\u001b[0m\n\u001b[0m\u001b[1;32m   7553\u001b[0m     return _convert_object_array(content, columns, dtype=dtype,\n\u001b[1;32m   7554\u001b[0m                                  coerce_float=coerce_float)\n",
      "\u001b[0;32mpandas/_libs/src/inference.pyx\u001b[0m in \u001b[0;36mpandas._libs.lib.to_object_array\u001b[0;34m()\u001b[0m\n",
      "\u001b[0;31mTypeError\u001b[0m: Expected list, got DataBlock"
     ]
    }
   ],
   "source": [
    "humidity=[]\n",
    "temperature=[]\n",
    "cloudiness=[]\n",
    "windspeed=[]\n",
    "\n",
    "df_raw_data=pd.DataFrame.from_dict(weather_in_cities)"
   ]
  },
  {
   "cell_type": "code",
   "execution_count": null,
   "metadata": {},
   "outputs": [],
   "source": []
  },
  {
   "cell_type": "markdown",
   "metadata": {},
   "source": [
    "### Plotting the Data\n",
    "* Use proper labeling of the plots using plot titles (including date of analysis) and axes labels.\n",
    "* Save the plotted figures as .pngs."
   ]
  },
  {
   "cell_type": "markdown",
   "metadata": {},
   "source": [
    "#### Latitude vs. Temperature Plot"
   ]
  },
  {
   "cell_type": "code",
   "execution_count": null,
   "metadata": {},
   "outputs": [],
   "source": []
  },
  {
   "cell_type": "markdown",
   "metadata": {},
   "source": [
    "#### Latitude vs. Humidity Plot"
   ]
  },
  {
   "cell_type": "code",
   "execution_count": null,
   "metadata": {},
   "outputs": [],
   "source": []
  },
  {
   "cell_type": "markdown",
   "metadata": {},
   "source": [
    "#### Latitude vs. Cloudiness Plot"
   ]
  },
  {
   "cell_type": "code",
   "execution_count": null,
   "metadata": {},
   "outputs": [],
   "source": []
  },
  {
   "cell_type": "markdown",
   "metadata": {},
   "source": [
    "#### Latitude vs. Wind Speed Plot"
   ]
  },
  {
   "cell_type": "code",
   "execution_count": null,
   "metadata": {},
   "outputs": [],
   "source": []
  },
  {
   "cell_type": "code",
   "execution_count": null,
   "metadata": {},
   "outputs": [],
   "source": []
  }
 ],
 "metadata": {
  "anaconda-cloud": {},
  "kernelspec": {
   "display_name": "Python 3",
   "language": "python",
   "name": "python3"
  },
  "language_info": {
   "codemirror_mode": {
    "name": "ipython",
    "version": 3
   },
   "file_extension": ".py",
   "mimetype": "text/x-python",
   "name": "python",
   "nbconvert_exporter": "python",
   "pygments_lexer": "ipython3",
   "version": "3.6.6"
  }
 },
 "nbformat": 4,
 "nbformat_minor": 2
}
